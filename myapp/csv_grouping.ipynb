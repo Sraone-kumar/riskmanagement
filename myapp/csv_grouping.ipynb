{
 "cells": [
  {
   "cell_type": "code",
   "execution_count": 1,
   "metadata": {},
   "outputs": [],
   "source": [
    "month = [1,2,3,4,5,6,7,8,9,10]\n",
    "h2_sum_of_incomming_greater_than = 1000\n",
    "h3_sum_of_outing_greater_than = 800\n",
    "h4_number_of_transactions_in_a_day = 20  \n",
    "\n",
    "m2_sum_of_incomming_greater_than = 600\n",
    "m2_sum_of_incomming_less_than = 1000\n",
    "m3_sum_of_outing_greater_than = 500\n",
    "m3_sum_of_outing_greater_than = 800\n",
    "m4_number_of_transactions_lessthan_in_a_day = 20  \n",
    "m4_number_of_transactions_greaterthan_in_a_day = 10  \n",
    "\n",
    "\n",
    "l1_sum_of_incomming_less_than = 1000\n",
    "l1_sum_of_outing_less_than = 500\n",
    "l1_number_of_transactions_lessthan_in_a_day = 10"
   ]
  },
  {
   "cell_type": "code",
   "execution_count": null,
   "metadata": {},
   "outputs": [],
   "source": [
    "personframe = \n",
    "\n",
    "sum_of_innTrans = 0\n",
    "sum_of_outTrans = 0\n",
    "\n",
    "for i in personframe:\n",
    "  sum_of_innTrans += i[2]\n",
    "  sum_of_outTrans += i[2]\n",
    "\n",
    "\n"
   ]
  }
 ],
 "metadata": {
  "interpreter": {
   "hash": "caf864e34ef7395eb976daed2aea1ac0b14a1cd190f228b20cd8638a2c801744"
  },
  "kernelspec": {
   "display_name": "Python 3.9.7 64-bit ('env1': virtualenv)",
   "language": "python",
   "name": "python3"
  },
  "language_info": {
   "codemirror_mode": {
    "name": "ipython",
    "version": 3
   },
   "file_extension": ".py",
   "mimetype": "text/x-python",
   "name": "python",
   "nbconvert_exporter": "python",
   "pygments_lexer": "ipython3",
   "version": "3.9.7"
  },
  "orig_nbformat": 4
 },
 "nbformat": 4,
 "nbformat_minor": 2
}
